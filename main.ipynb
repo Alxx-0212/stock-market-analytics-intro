{
 "cells": [
  {
   "cell_type": "code",
   "execution_count": 1,
   "metadata": {},
   "outputs": [],
   "source": [
    "# IMPORTS\n",
    "import numpy as np\n",
    "import pandas as pd\n",
    "\n",
    "#Fin Data Sources\n",
    "import yfinance as yf\n",
    "import pandas_datareader as pdr\n",
    "\n",
    "#Data viz\n",
    "import plotly.graph_objs as go\n",
    "import plotly.express as px\n",
    "\n",
    "import time\n",
    "from datetime import date\n"
   ]
  },
  {
   "cell_type": "markdown",
   "metadata": {},
   "source": [
    "### Question 1: [Macro] Average growth of GDP in 2023"
   ]
  },
  {
   "cell_type": "code",
   "execution_count": 2,
   "metadata": {},
   "outputs": [
    {
     "name": "stdout",
     "output_type": "stream",
     "text": [
      "Year = 2024; month= 4; day=22\n",
      "Period for indexes: 1954-04-22 to 2024-04-22 \n"
     ]
    }
   ],
   "source": [
    "end = date.today()\n",
    "print(f'Year = {end.year}; month= {end.month}; day={end.day}')\n",
    "\n",
    "start = date(year=end.year-70, month=end.month, day=end.day)\n",
    "print(f'Period for indexes: {start} to {end} ')"
   ]
  },
  {
   "cell_type": "code",
   "execution_count": 3,
   "metadata": {},
   "outputs": [],
   "source": [
    "gdpc1 = pdr.DataReader(\"GDPC1\", \"fred\", start=start)"
   ]
  },
  {
   "cell_type": "code",
   "execution_count": 4,
   "metadata": {},
   "outputs": [
    {
     "data": {
      "text/html": [
       "<div>\n",
       "<style scoped>\n",
       "    .dataframe tbody tr th:only-of-type {\n",
       "        vertical-align: middle;\n",
       "    }\n",
       "\n",
       "    .dataframe tbody tr th {\n",
       "        vertical-align: top;\n",
       "    }\n",
       "\n",
       "    .dataframe thead th {\n",
       "        text-align: right;\n",
       "    }\n",
       "</style>\n",
       "<table border=\"1\" class=\"dataframe\">\n",
       "  <thead>\n",
       "    <tr style=\"text-align: right;\">\n",
       "      <th></th>\n",
       "      <th>GDPC1</th>\n",
       "    </tr>\n",
       "    <tr>\n",
       "      <th>DATE</th>\n",
       "      <th></th>\n",
       "    </tr>\n",
       "  </thead>\n",
       "  <tbody>\n",
       "    <tr>\n",
       "      <th>1954-07-01</th>\n",
       "      <td>2880.482</td>\n",
       "    </tr>\n",
       "    <tr>\n",
       "      <th>1954-10-01</th>\n",
       "      <td>2936.852</td>\n",
       "    </tr>\n",
       "    <tr>\n",
       "      <th>1955-01-01</th>\n",
       "      <td>3020.746</td>\n",
       "    </tr>\n",
       "    <tr>\n",
       "      <th>1955-04-01</th>\n",
       "      <td>3069.910</td>\n",
       "    </tr>\n",
       "    <tr>\n",
       "      <th>1955-07-01</th>\n",
       "      <td>3111.379</td>\n",
       "    </tr>\n",
       "    <tr>\n",
       "      <th>...</th>\n",
       "      <td>...</td>\n",
       "    </tr>\n",
       "    <tr>\n",
       "      <th>2022-10-01</th>\n",
       "      <td>21989.981</td>\n",
       "    </tr>\n",
       "    <tr>\n",
       "      <th>2023-01-01</th>\n",
       "      <td>22112.329</td>\n",
       "    </tr>\n",
       "    <tr>\n",
       "      <th>2023-04-01</th>\n",
       "      <td>22225.350</td>\n",
       "    </tr>\n",
       "    <tr>\n",
       "      <th>2023-07-01</th>\n",
       "      <td>22490.692</td>\n",
       "    </tr>\n",
       "    <tr>\n",
       "      <th>2023-10-01</th>\n",
       "      <td>22679.255</td>\n",
       "    </tr>\n",
       "  </tbody>\n",
       "</table>\n",
       "<p>278 rows × 1 columns</p>\n",
       "</div>"
      ],
      "text/plain": [
       "                GDPC1\n",
       "DATE                 \n",
       "1954-07-01   2880.482\n",
       "1954-10-01   2936.852\n",
       "1955-01-01   3020.746\n",
       "1955-04-01   3069.910\n",
       "1955-07-01   3111.379\n",
       "...               ...\n",
       "2022-10-01  21989.981\n",
       "2023-01-01  22112.329\n",
       "2023-04-01  22225.350\n",
       "2023-07-01  22490.692\n",
       "2023-10-01  22679.255\n",
       "\n",
       "[278 rows x 1 columns]"
      ]
     },
     "execution_count": 4,
     "metadata": {},
     "output_type": "execute_result"
    }
   ],
   "source": [
    "gdpc1"
   ]
  },
  {
   "cell_type": "code",
   "execution_count": 5,
   "metadata": {},
   "outputs": [
    {
     "data": {
      "text/html": [
       "<div>\n",
       "<style scoped>\n",
       "    .dataframe tbody tr th:only-of-type {\n",
       "        vertical-align: middle;\n",
       "    }\n",
       "\n",
       "    .dataframe tbody tr th {\n",
       "        vertical-align: top;\n",
       "    }\n",
       "\n",
       "    .dataframe thead th {\n",
       "        text-align: right;\n",
       "    }\n",
       "</style>\n",
       "<table border=\"1\" class=\"dataframe\">\n",
       "  <thead>\n",
       "    <tr style=\"text-align: right;\">\n",
       "      <th></th>\n",
       "      <th>GDPC1</th>\n",
       "      <th>gdpc1_us_yoy</th>\n",
       "      <th>gdpc1_us_qoq</th>\n",
       "    </tr>\n",
       "    <tr>\n",
       "      <th>DATE</th>\n",
       "      <th></th>\n",
       "      <th></th>\n",
       "      <th></th>\n",
       "    </tr>\n",
       "  </thead>\n",
       "  <tbody>\n",
       "    <tr>\n",
       "      <th>2023-01-01</th>\n",
       "      <td>22112.329</td>\n",
       "      <td>0.017179</td>\n",
       "      <td>0.005564</td>\n",
       "    </tr>\n",
       "    <tr>\n",
       "      <th>2023-04-01</th>\n",
       "      <td>22225.350</td>\n",
       "      <td>0.023825</td>\n",
       "      <td>0.005111</td>\n",
       "    </tr>\n",
       "    <tr>\n",
       "      <th>2023-07-01</th>\n",
       "      <td>22490.692</td>\n",
       "      <td>0.029269</td>\n",
       "      <td>0.011939</td>\n",
       "    </tr>\n",
       "    <tr>\n",
       "      <th>2023-10-01</th>\n",
       "      <td>22679.255</td>\n",
       "      <td>0.031345</td>\n",
       "      <td>0.008384</td>\n",
       "    </tr>\n",
       "  </tbody>\n",
       "</table>\n",
       "</div>"
      ],
      "text/plain": [
       "                GDPC1  gdpc1_us_yoy  gdpc1_us_qoq\n",
       "DATE                                             \n",
       "2023-01-01  22112.329      0.017179      0.005564\n",
       "2023-04-01  22225.350      0.023825      0.005111\n",
       "2023-07-01  22490.692      0.029269      0.011939\n",
       "2023-10-01  22679.255      0.031345      0.008384"
      ]
     },
     "execution_count": 5,
     "metadata": {},
     "output_type": "execute_result"
    }
   ],
   "source": [
    "gdpc1['gdpc1_us_yoy'] = gdpc1.GDPC1/gdpc1.GDPC1.shift(4)-1\n",
    "gdpc1['gdpc1_us_qoq'] = gdpc1.GDPC1/gdpc1.GDPC1.shift(1)-1\n",
    "gdpc1.tail(4)"
   ]
  },
  {
   "cell_type": "code",
   "execution_count": 6,
   "metadata": {},
   "outputs": [],
   "source": [
    "gdpc1_yoy_2023 = sum(gdpc1.tail(4)['gdpc1_us_yoy'])"
   ]
  },
  {
   "cell_type": "code",
   "execution_count": 7,
   "metadata": {},
   "outputs": [
    {
     "data": {
      "text/plain": [
       "2.5404433928676253"
      ]
     },
     "execution_count": 7,
     "metadata": {},
     "output_type": "execute_result"
    }
   ],
   "source": [
    "gdpc1_yoy_2023/4 * 100"
   ]
  },
  {
   "cell_type": "markdown",
   "metadata": {},
   "source": [
    "### Question 2. [Macro] Inverse \"Treasury Yield\""
   ]
  },
  {
   "cell_type": "code",
   "execution_count": 8,
   "metadata": {},
   "outputs": [
    {
     "name": "stdout",
     "output_type": "stream",
     "text": [
      "Year = 2024; month= 4; day=22\n",
      "Period for indexes: 2000-01-01 to 2024-04-22 \n"
     ]
    }
   ],
   "source": [
    "end = date.today()\n",
    "print(f'Year = {end.year}; month= {end.month}; day={end.day}')\n",
    "\n",
    "start = date(year=2000, month=1, day=1)\n",
    "print(f'Period for indexes: {start} to {end} ')"
   ]
  },
  {
   "cell_type": "code",
   "execution_count": 9,
   "metadata": {},
   "outputs": [],
   "source": [
    "dgs2 = pdr.DataReader(\"DGS2\", \"fred\", start=start)\n",
    "dgs10 = pdr.DataReader(\"DGS10\", \"fred\", start=start)\n",
    "# reset the dataframe index\n",
    "dgs2 = dgs2.reset_index()\n",
    "dgs10 = dgs10.reset_index()"
   ]
  },
  {
   "cell_type": "code",
   "execution_count": 10,
   "metadata": {},
   "outputs": [],
   "source": [
    "dgs_2_10 = pd.merge(dgs2,dgs10,on='DATE')"
   ]
  },
  {
   "cell_type": "code",
   "execution_count": 11,
   "metadata": {},
   "outputs": [
    {
     "data": {
      "text/html": [
       "<div>\n",
       "<style scoped>\n",
       "    .dataframe tbody tr th:only-of-type {\n",
       "        vertical-align: middle;\n",
       "    }\n",
       "\n",
       "    .dataframe tbody tr th {\n",
       "        vertical-align: top;\n",
       "    }\n",
       "\n",
       "    .dataframe thead th {\n",
       "        text-align: right;\n",
       "    }\n",
       "</style>\n",
       "<table border=\"1\" class=\"dataframe\">\n",
       "  <thead>\n",
       "    <tr style=\"text-align: right;\">\n",
       "      <th></th>\n",
       "      <th>DATE</th>\n",
       "      <th>DGS2</th>\n",
       "      <th>DGS10</th>\n",
       "    </tr>\n",
       "  </thead>\n",
       "  <tbody>\n",
       "    <tr>\n",
       "      <th>0</th>\n",
       "      <td>2000-01-03</td>\n",
       "      <td>6.38</td>\n",
       "      <td>6.58</td>\n",
       "    </tr>\n",
       "    <tr>\n",
       "      <th>1</th>\n",
       "      <td>2000-01-04</td>\n",
       "      <td>6.30</td>\n",
       "      <td>6.49</td>\n",
       "    </tr>\n",
       "    <tr>\n",
       "      <th>2</th>\n",
       "      <td>2000-01-05</td>\n",
       "      <td>6.38</td>\n",
       "      <td>6.62</td>\n",
       "    </tr>\n",
       "    <tr>\n",
       "      <th>3</th>\n",
       "      <td>2000-01-06</td>\n",
       "      <td>6.35</td>\n",
       "      <td>6.57</td>\n",
       "    </tr>\n",
       "    <tr>\n",
       "      <th>4</th>\n",
       "      <td>2000-01-07</td>\n",
       "      <td>6.31</td>\n",
       "      <td>6.52</td>\n",
       "    </tr>\n",
       "    <tr>\n",
       "      <th>...</th>\n",
       "      <td>...</td>\n",
       "      <td>...</td>\n",
       "      <td>...</td>\n",
       "    </tr>\n",
       "    <tr>\n",
       "      <th>6334</th>\n",
       "      <td>2024-04-12</td>\n",
       "      <td>4.88</td>\n",
       "      <td>4.50</td>\n",
       "    </tr>\n",
       "    <tr>\n",
       "      <th>6335</th>\n",
       "      <td>2024-04-15</td>\n",
       "      <td>4.93</td>\n",
       "      <td>4.63</td>\n",
       "    </tr>\n",
       "    <tr>\n",
       "      <th>6336</th>\n",
       "      <td>2024-04-16</td>\n",
       "      <td>4.97</td>\n",
       "      <td>4.67</td>\n",
       "    </tr>\n",
       "    <tr>\n",
       "      <th>6337</th>\n",
       "      <td>2024-04-17</td>\n",
       "      <td>4.93</td>\n",
       "      <td>4.59</td>\n",
       "    </tr>\n",
       "    <tr>\n",
       "      <th>6338</th>\n",
       "      <td>2024-04-18</td>\n",
       "      <td>4.98</td>\n",
       "      <td>4.64</td>\n",
       "    </tr>\n",
       "  </tbody>\n",
       "</table>\n",
       "<p>6339 rows × 3 columns</p>\n",
       "</div>"
      ],
      "text/plain": [
       "           DATE  DGS2  DGS10\n",
       "0    2000-01-03  6.38   6.58\n",
       "1    2000-01-04  6.30   6.49\n",
       "2    2000-01-05  6.38   6.62\n",
       "3    2000-01-06  6.35   6.57\n",
       "4    2000-01-07  6.31   6.52\n",
       "...         ...   ...    ...\n",
       "6334 2024-04-12  4.88   4.50\n",
       "6335 2024-04-15  4.93   4.63\n",
       "6336 2024-04-16  4.97   4.67\n",
       "6337 2024-04-17  4.93   4.59\n",
       "6338 2024-04-18  4.98   4.64\n",
       "\n",
       "[6339 rows x 3 columns]"
      ]
     },
     "execution_count": 11,
     "metadata": {},
     "output_type": "execute_result"
    }
   ],
   "source": [
    "dgs_2_10"
   ]
  },
  {
   "cell_type": "code",
   "execution_count": 12,
   "metadata": {},
   "outputs": [],
   "source": [
    "dgs_2_10['Subtract'] = dgs_2_10['DGS10'] - dgs_2_10['DGS2']"
   ]
  },
  {
   "cell_type": "code",
   "execution_count": 13,
   "metadata": {},
   "outputs": [
    {
     "data": {
      "text/plain": [
       "-1.0800000000000005"
      ]
     },
     "execution_count": 13,
     "metadata": {},
     "output_type": "execute_result"
    }
   ],
   "source": [
    "min(dgs_2_10['Subtract'])"
   ]
  },
  {
   "cell_type": "markdown",
   "metadata": {},
   "source": [
    "### Question 3. [Index] Which Index is better recently?"
   ]
  },
  {
   "cell_type": "code",
   "execution_count": 14,
   "metadata": {},
   "outputs": [
    {
     "name": "stderr",
     "output_type": "stream",
     "text": [
      "[*********************100%%**********************]  1 of 1 completed\n",
      "[*********************100%%**********************]  1 of 1 completed\n"
     ]
    }
   ],
   "source": [
    "snp500_daily_non_delayed = yf.download(tickers = \"^GSPC\",\n",
    "                     period = \"max\",\n",
    "                     interval = \"1d\")\n",
    "\n",
    "ipc_mexico_daily_non_delayed = yf.download(tickers = \"^MXX\",\n",
    "                     period = \"max\",\n",
    "                     interval = \"1d\")"
   ]
  },
  {
   "cell_type": "code",
   "execution_count": 15,
   "metadata": {},
   "outputs": [
    {
     "data": {
      "text/html": [
       "<div>\n",
       "<style scoped>\n",
       "    .dataframe tbody tr th:only-of-type {\n",
       "        vertical-align: middle;\n",
       "    }\n",
       "\n",
       "    .dataframe tbody tr th {\n",
       "        vertical-align: top;\n",
       "    }\n",
       "\n",
       "    .dataframe thead th {\n",
       "        text-align: right;\n",
       "    }\n",
       "</style>\n",
       "<table border=\"1\" class=\"dataframe\">\n",
       "  <thead>\n",
       "    <tr style=\"text-align: right;\">\n",
       "      <th></th>\n",
       "      <th>Open</th>\n",
       "      <th>High</th>\n",
       "      <th>Low</th>\n",
       "      <th>Close</th>\n",
       "      <th>Adj Close</th>\n",
       "      <th>Volume</th>\n",
       "    </tr>\n",
       "    <tr>\n",
       "      <th>Date</th>\n",
       "      <th></th>\n",
       "      <th></th>\n",
       "      <th></th>\n",
       "      <th></th>\n",
       "      <th></th>\n",
       "      <th></th>\n",
       "    </tr>\n",
       "  </thead>\n",
       "  <tbody>\n",
       "    <tr>\n",
       "      <th>1927-12-30</th>\n",
       "      <td>17.660000</td>\n",
       "      <td>17.660000</td>\n",
       "      <td>17.660000</td>\n",
       "      <td>17.660000</td>\n",
       "      <td>17.660000</td>\n",
       "      <td>0</td>\n",
       "    </tr>\n",
       "    <tr>\n",
       "      <th>1928-01-03</th>\n",
       "      <td>17.760000</td>\n",
       "      <td>17.760000</td>\n",
       "      <td>17.760000</td>\n",
       "      <td>17.760000</td>\n",
       "      <td>17.760000</td>\n",
       "      <td>0</td>\n",
       "    </tr>\n",
       "    <tr>\n",
       "      <th>1928-01-04</th>\n",
       "      <td>17.719999</td>\n",
       "      <td>17.719999</td>\n",
       "      <td>17.719999</td>\n",
       "      <td>17.719999</td>\n",
       "      <td>17.719999</td>\n",
       "      <td>0</td>\n",
       "    </tr>\n",
       "    <tr>\n",
       "      <th>1928-01-05</th>\n",
       "      <td>17.549999</td>\n",
       "      <td>17.549999</td>\n",
       "      <td>17.549999</td>\n",
       "      <td>17.549999</td>\n",
       "      <td>17.549999</td>\n",
       "      <td>0</td>\n",
       "    </tr>\n",
       "    <tr>\n",
       "      <th>1928-01-06</th>\n",
       "      <td>17.660000</td>\n",
       "      <td>17.660000</td>\n",
       "      <td>17.660000</td>\n",
       "      <td>17.660000</td>\n",
       "      <td>17.660000</td>\n",
       "      <td>0</td>\n",
       "    </tr>\n",
       "    <tr>\n",
       "      <th>...</th>\n",
       "      <td>...</td>\n",
       "      <td>...</td>\n",
       "      <td>...</td>\n",
       "      <td>...</td>\n",
       "      <td>...</td>\n",
       "      <td>...</td>\n",
       "    </tr>\n",
       "    <tr>\n",
       "      <th>2024-04-15</th>\n",
       "      <td>5149.669922</td>\n",
       "      <td>5168.430176</td>\n",
       "      <td>5052.470215</td>\n",
       "      <td>5061.819824</td>\n",
       "      <td>5061.819824</td>\n",
       "      <td>3950210000</td>\n",
       "    </tr>\n",
       "    <tr>\n",
       "      <th>2024-04-16</th>\n",
       "      <td>5064.589844</td>\n",
       "      <td>5079.839844</td>\n",
       "      <td>5039.830078</td>\n",
       "      <td>5051.410156</td>\n",
       "      <td>5051.410156</td>\n",
       "      <td>4006200000</td>\n",
       "    </tr>\n",
       "    <tr>\n",
       "      <th>2024-04-17</th>\n",
       "      <td>5068.970215</td>\n",
       "      <td>5077.959961</td>\n",
       "      <td>5007.250000</td>\n",
       "      <td>5022.209961</td>\n",
       "      <td>5022.209961</td>\n",
       "      <td>3596130000</td>\n",
       "    </tr>\n",
       "    <tr>\n",
       "      <th>2024-04-18</th>\n",
       "      <td>5031.520020</td>\n",
       "      <td>5056.660156</td>\n",
       "      <td>5001.890137</td>\n",
       "      <td>5011.120117</td>\n",
       "      <td>5011.120117</td>\n",
       "      <td>3619760000</td>\n",
       "    </tr>\n",
       "    <tr>\n",
       "      <th>2024-04-19</th>\n",
       "      <td>5005.439941</td>\n",
       "      <td>5019.020020</td>\n",
       "      <td>4953.560059</td>\n",
       "      <td>4967.229980</td>\n",
       "      <td>4967.229980</td>\n",
       "      <td>3878750000</td>\n",
       "    </tr>\n",
       "  </tbody>\n",
       "</table>\n",
       "<p>24191 rows × 6 columns</p>\n",
       "</div>"
      ],
      "text/plain": [
       "                   Open         High          Low        Close    Adj Close  \\\n",
       "Date                                                                          \n",
       "1927-12-30    17.660000    17.660000    17.660000    17.660000    17.660000   \n",
       "1928-01-03    17.760000    17.760000    17.760000    17.760000    17.760000   \n",
       "1928-01-04    17.719999    17.719999    17.719999    17.719999    17.719999   \n",
       "1928-01-05    17.549999    17.549999    17.549999    17.549999    17.549999   \n",
       "1928-01-06    17.660000    17.660000    17.660000    17.660000    17.660000   \n",
       "...                 ...          ...          ...          ...          ...   \n",
       "2024-04-15  5149.669922  5168.430176  5052.470215  5061.819824  5061.819824   \n",
       "2024-04-16  5064.589844  5079.839844  5039.830078  5051.410156  5051.410156   \n",
       "2024-04-17  5068.970215  5077.959961  5007.250000  5022.209961  5022.209961   \n",
       "2024-04-18  5031.520020  5056.660156  5001.890137  5011.120117  5011.120117   \n",
       "2024-04-19  5005.439941  5019.020020  4953.560059  4967.229980  4967.229980   \n",
       "\n",
       "                Volume  \n",
       "Date                    \n",
       "1927-12-30           0  \n",
       "1928-01-03           0  \n",
       "1928-01-04           0  \n",
       "1928-01-05           0  \n",
       "1928-01-06           0  \n",
       "...                ...  \n",
       "2024-04-15  3950210000  \n",
       "2024-04-16  4006200000  \n",
       "2024-04-17  3596130000  \n",
       "2024-04-18  3619760000  \n",
       "2024-04-19  3878750000  \n",
       "\n",
       "[24191 rows x 6 columns]"
      ]
     },
     "execution_count": 15,
     "metadata": {},
     "output_type": "execute_result"
    }
   ],
   "source": [
    "snp500_daily_non_delayed"
   ]
  },
  {
   "cell_type": "code",
   "execution_count": 16,
   "metadata": {},
   "outputs": [],
   "source": [
    "snp_adj_2019 = snp500_daily_non_delayed[(snp500_daily_non_delayed.index=='2019-04-09')]['Low']\n",
    "snp_adj_2024 = snp500_daily_non_delayed[(snp500_daily_non_delayed.index=='2024-04-09')]['High']"
   ]
  },
  {
   "cell_type": "code",
   "execution_count": 17,
   "metadata": {},
   "outputs": [
    {
     "data": {
      "text/plain": [
       "2873.330078125"
      ]
     },
     "execution_count": 17,
     "metadata": {},
     "output_type": "execute_result"
    }
   ],
   "source": [
    "snp_adj_2019.values[0]"
   ]
  },
  {
   "cell_type": "code",
   "execution_count": 18,
   "metadata": {},
   "outputs": [
    {
     "data": {
      "text/plain": [
       "5224.81005859375"
      ]
     },
     "execution_count": 18,
     "metadata": {},
     "output_type": "execute_result"
    }
   ],
   "source": [
    "snp_adj_2024.values[0]"
   ]
  },
  {
   "cell_type": "code",
   "execution_count": 19,
   "metadata": {},
   "outputs": [
    {
     "data": {
      "text/plain": [
       "81.83814307903027"
      ]
     },
     "execution_count": 19,
     "metadata": {},
     "output_type": "execute_result"
    }
   ],
   "source": [
    "growth = (snp_adj_2024.values[0] - snp_adj_2019.values[0])/snp_adj_2019.values[0] * 100\n",
    "growth"
   ]
  },
  {
   "cell_type": "code",
   "execution_count": 20,
   "metadata": {},
   "outputs": [],
   "source": [
    "ipc_adj_2019 = ipc_mexico_daily_non_delayed[(ipc_mexico_daily_non_delayed.index=='2019-04-09')]['Low']\n",
    "ipc_adj_2024 = ipc_mexico_daily_non_delayed[(ipc_mexico_daily_non_delayed.index=='2024-04-09')]['High']"
   ]
  },
  {
   "cell_type": "code",
   "execution_count": 21,
   "metadata": {},
   "outputs": [
    {
     "data": {
      "text/plain": [
       "Date\n",
       "2019-04-09    44854.53125\n",
       "Name: Low, dtype: float64"
      ]
     },
     "execution_count": 21,
     "metadata": {},
     "output_type": "execute_result"
    }
   ],
   "source": [
    "ipc_adj_2019"
   ]
  },
  {
   "cell_type": "code",
   "execution_count": 22,
   "metadata": {},
   "outputs": [
    {
     "data": {
      "text/plain": [
       "Date\n",
       "2024-04-09    58298.769531\n",
       "Name: High, dtype: float64"
      ]
     },
     "execution_count": 22,
     "metadata": {},
     "output_type": "execute_result"
    }
   ],
   "source": [
    "ipc_adj_2024"
   ]
  },
  {
   "cell_type": "code",
   "execution_count": 23,
   "metadata": {},
   "outputs": [
    {
     "data": {
      "text/plain": [
       "29.972976880122896"
      ]
     },
     "execution_count": 23,
     "metadata": {},
     "output_type": "execute_result"
    }
   ],
   "source": [
    "growth = (ipc_adj_2024.values[0] - ipc_adj_2019.values[0])/ipc_adj_2019.values[0] * 100\n",
    "growth"
   ]
  },
  {
   "cell_type": "markdown",
   "metadata": {},
   "source": [
    "### Question 4. [Stocks OHLCV] 52-weeks range ratio (2023) for the selected stocks"
   ]
  },
  {
   "cell_type": "code",
   "execution_count": 24,
   "metadata": {},
   "outputs": [
    {
     "name": "stderr",
     "output_type": "stream",
     "text": [
      "[*********************100%%**********************]  1 of 1 completed\n",
      "[*********************100%%**********************]  1 of 1 completed\n",
      "[*********************100%%**********************]  1 of 1 completed\n",
      "[*********************100%%**********************]  1 of 1 completed\n",
      "[*********************100%%**********************]  1 of 1 completed\n",
      "[*********************100%%**********************]  1 of 1 completed\n"
     ]
    }
   ],
   "source": [
    "sr_daily_non_delayed = yf.download(tickers = \"2222.SR\",\n",
    "                     period = \"max\",\n",
    "                     interval = \"1d\")\n",
    "sr_daily_non_delayed = sr_daily_non_delayed[(sr_daily_non_delayed.index >= '2023-01-01') & (sr_daily_non_delayed.index <= '2023-12-31')]\n",
    "\n",
    "brk_daily_non_delayed = yf.download(tickers = \"BRK-B\",\n",
    "                     period = \"max\",\n",
    "                     interval = \"1d\")\n",
    "brk_daily_non_delayed = brk_daily_non_delayed[(brk_daily_non_delayed.index >= '2023-01-01') & (brk_daily_non_delayed.index <= '2023-12-31')]\n",
    "\n",
    "aapl_daily_non_delayed = yf.download(tickers = \"AAPL\",\n",
    "                     period = \"max\",\n",
    "                     interval = \"1d\")\n",
    "aapl_daily_non_delayed = aapl_daily_non_delayed[(aapl_daily_non_delayed.index >= '2023-01-01') & (aapl_daily_non_delayed.index <= '2023-12-31')]\n",
    "\n",
    "msft_daily_non_delayed = yf.download(tickers = \"MSFT\",\n",
    "                     period = \"max\",\n",
    "                     interval = \"1d\")\n",
    "msft_daily_non_delayed = msft_daily_non_delayed[(msft_daily_non_delayed.index >= '2023-01-01') & (msft_daily_non_delayed.index <= '2023-12-31')]\n",
    "\n",
    "goog_daily_non_delayed = yf.download(tickers = \"GOOG\",\n",
    "                     period = \"max\",\n",
    "                     interval = \"1d\")\n",
    "goog_daily_non_delayed = goog_daily_non_delayed[(goog_daily_non_delayed.index >= '2023-01-01') & (goog_daily_non_delayed.index <= '2023-12-31')]\n",
    "\n",
    "jpm_daily_non_delayed = yf.download(tickers = \"JPM\",\n",
    "                     period = \"max\",\n",
    "                     interval = \"1d\")\n",
    "jpm_daily_non_delayed = jpm_daily_non_delayed[(jpm_daily_non_delayed.index >= '2023-01-01') & (jpm_daily_non_delayed.index <= '2023-12-31')]"
   ]
  },
  {
   "cell_type": "code",
   "execution_count": 25,
   "metadata": {},
   "outputs": [
    {
     "data": {
      "text/html": [
       "<div>\n",
       "<style scoped>\n",
       "    .dataframe tbody tr th:only-of-type {\n",
       "        vertical-align: middle;\n",
       "    }\n",
       "\n",
       "    .dataframe tbody tr th {\n",
       "        vertical-align: top;\n",
       "    }\n",
       "\n",
       "    .dataframe thead th {\n",
       "        text-align: right;\n",
       "    }\n",
       "</style>\n",
       "<table border=\"1\" class=\"dataframe\">\n",
       "  <thead>\n",
       "    <tr style=\"text-align: right;\">\n",
       "      <th></th>\n",
       "      <th>Open</th>\n",
       "      <th>High</th>\n",
       "      <th>Low</th>\n",
       "      <th>Close</th>\n",
       "      <th>Adj Close</th>\n",
       "      <th>Volume</th>\n",
       "    </tr>\n",
       "    <tr>\n",
       "      <th>Date</th>\n",
       "      <th></th>\n",
       "      <th></th>\n",
       "      <th></th>\n",
       "      <th></th>\n",
       "      <th></th>\n",
       "      <th></th>\n",
       "    </tr>\n",
       "  </thead>\n",
       "  <tbody>\n",
       "    <tr>\n",
       "      <th>2023-01-01</th>\n",
       "      <td>29.227272</td>\n",
       "      <td>29.454544</td>\n",
       "      <td>29.181818</td>\n",
       "      <td>29.454544</td>\n",
       "      <td>28.475796</td>\n",
       "      <td>1569087</td>\n",
       "    </tr>\n",
       "    <tr>\n",
       "      <th>2023-01-02</th>\n",
       "      <td>29.545454</td>\n",
       "      <td>29.545454</td>\n",
       "      <td>29.227272</td>\n",
       "      <td>29.227272</td>\n",
       "      <td>28.256073</td>\n",
       "      <td>4693364</td>\n",
       "    </tr>\n",
       "    <tr>\n",
       "      <th>2023-01-03</th>\n",
       "      <td>29.227272</td>\n",
       "      <td>29.227272</td>\n",
       "      <td>29.227272</td>\n",
       "      <td>29.227272</td>\n",
       "      <td>28.256073</td>\n",
       "      <td>0</td>\n",
       "    </tr>\n",
       "    <tr>\n",
       "      <th>2023-01-04</th>\n",
       "      <td>29.181818</td>\n",
       "      <td>29.227272</td>\n",
       "      <td>28.681818</td>\n",
       "      <td>28.818180</td>\n",
       "      <td>27.860577</td>\n",
       "      <td>4618455</td>\n",
       "    </tr>\n",
       "    <tr>\n",
       "      <th>2023-01-05</th>\n",
       "      <td>28.818180</td>\n",
       "      <td>28.818180</td>\n",
       "      <td>28.363636</td>\n",
       "      <td>28.681818</td>\n",
       "      <td>27.728745</td>\n",
       "      <td>4797670</td>\n",
       "    </tr>\n",
       "    <tr>\n",
       "      <th>...</th>\n",
       "      <td>...</td>\n",
       "      <td>...</td>\n",
       "      <td>...</td>\n",
       "      <td>...</td>\n",
       "      <td>...</td>\n",
       "      <td>...</td>\n",
       "    </tr>\n",
       "    <tr>\n",
       "      <th>2023-12-25</th>\n",
       "      <td>33.000000</td>\n",
       "      <td>33.099998</td>\n",
       "      <td>32.849998</td>\n",
       "      <td>33.099998</td>\n",
       "      <td>32.927525</td>\n",
       "      <td>15869070</td>\n",
       "    </tr>\n",
       "    <tr>\n",
       "      <th>2023-12-26</th>\n",
       "      <td>33.049999</td>\n",
       "      <td>33.099998</td>\n",
       "      <td>32.900002</td>\n",
       "      <td>33.049999</td>\n",
       "      <td>32.877789</td>\n",
       "      <td>14598967</td>\n",
       "    </tr>\n",
       "    <tr>\n",
       "      <th>2023-12-27</th>\n",
       "      <td>33.099998</td>\n",
       "      <td>33.250000</td>\n",
       "      <td>33.000000</td>\n",
       "      <td>33.150002</td>\n",
       "      <td>32.977268</td>\n",
       "      <td>14815683</td>\n",
       "    </tr>\n",
       "    <tr>\n",
       "      <th>2023-12-28</th>\n",
       "      <td>33.150002</td>\n",
       "      <td>33.250000</td>\n",
       "      <td>32.950001</td>\n",
       "      <td>33.049999</td>\n",
       "      <td>32.877789</td>\n",
       "      <td>12720450</td>\n",
       "    </tr>\n",
       "    <tr>\n",
       "      <th>2023-12-31</th>\n",
       "      <td>33.049999</td>\n",
       "      <td>33.099998</td>\n",
       "      <td>32.900002</td>\n",
       "      <td>33.000000</td>\n",
       "      <td>32.828049</td>\n",
       "      <td>10776909</td>\n",
       "    </tr>\n",
       "  </tbody>\n",
       "</table>\n",
       "<p>249 rows × 6 columns</p>\n",
       "</div>"
      ],
      "text/plain": [
       "                 Open       High        Low      Close  Adj Close    Volume\n",
       "Date                                                                       \n",
       "2023-01-01  29.227272  29.454544  29.181818  29.454544  28.475796   1569087\n",
       "2023-01-02  29.545454  29.545454  29.227272  29.227272  28.256073   4693364\n",
       "2023-01-03  29.227272  29.227272  29.227272  29.227272  28.256073         0\n",
       "2023-01-04  29.181818  29.227272  28.681818  28.818180  27.860577   4618455\n",
       "2023-01-05  28.818180  28.818180  28.363636  28.681818  27.728745   4797670\n",
       "...               ...        ...        ...        ...        ...       ...\n",
       "2023-12-25  33.000000  33.099998  32.849998  33.099998  32.927525  15869070\n",
       "2023-12-26  33.049999  33.099998  32.900002  33.049999  32.877789  14598967\n",
       "2023-12-27  33.099998  33.250000  33.000000  33.150002  32.977268  14815683\n",
       "2023-12-28  33.150002  33.250000  32.950001  33.049999  32.877789  12720450\n",
       "2023-12-31  33.049999  33.099998  32.900002  33.000000  32.828049  10776909\n",
       "\n",
       "[249 rows x 6 columns]"
      ]
     },
     "execution_count": 25,
     "metadata": {},
     "output_type": "execute_result"
    }
   ],
   "source": [
    "sr_daily_non_delayed[(sr_daily_non_delayed.index >= '2023-01-01') & (sr_daily_non_delayed.index <= '2023-12-31')]"
   ]
  },
  {
   "cell_type": "code",
   "execution_count": 26,
   "metadata": {},
   "outputs": [
    {
     "name": "stdout",
     "output_type": "stream",
     "text": [
      "0.21393076385731552\n",
      "0.20775750091289963\n",
      "0.3724441536845932\n",
      "0.4242066515530231\n",
      "0.3924520921912013\n",
      "0.28249927707093897\n"
     ]
    }
   ],
   "source": [
    "print((max(sr_daily_non_delayed['Adj Close'])-min(sr_daily_non_delayed['Adj Close']))/max(sr_daily_non_delayed['Adj Close']))\n",
    "print((max(brk_daily_non_delayed['Adj Close'])-min(brk_daily_non_delayed['Adj Close']))/max(brk_daily_non_delayed['Adj Close']))\n",
    "print((max(aapl_daily_non_delayed['Adj Close'])-min(aapl_daily_non_delayed['Adj Close']))/max(aapl_daily_non_delayed['Adj Close']))\n",
    "print((max(msft_daily_non_delayed['Adj Close'])-min(msft_daily_non_delayed['Adj Close']))/max(msft_daily_non_delayed['Adj Close']))\n",
    "print((max(goog_daily_non_delayed['Adj Close'])-min(goog_daily_non_delayed['Adj Close']))/max(goog_daily_non_delayed['Adj Close']))\n",
    "print((max(jpm_daily_non_delayed['Adj Close'])-min(jpm_daily_non_delayed['Adj Close']))/max(jpm_daily_non_delayed['Adj Close']))"
   ]
  },
  {
   "cell_type": "markdown",
   "metadata": {},
   "source": [
    "### Question 5. [Stocks] Dividend Yield"
   ]
  },
  {
   "cell_type": "code",
   "execution_count": 27,
   "metadata": {},
   "outputs": [],
   "source": [
    "sr = yf.Ticker(\"2222.SR\")\n",
    "brk = yf.Ticker(\"BRK-B\")\n",
    "aapl = yf.Ticker(\"AAPL\")\n",
    "msft = yf.Ticker(\"MSFT\")\n",
    "goog = yf.Ticker(\"GOOG\")\n",
    "jpm = yf.Ticker(\"JPM\")"
   ]
  },
  {
   "cell_type": "code",
   "execution_count": 28,
   "metadata": {},
   "outputs": [
    {
     "name": "stdout",
     "output_type": "stream",
     "text": [
      "2.7743470474138237\n",
      "0.0\n",
      "0.4940592304162832\n",
      "0.7433143940964608\n",
      "0.0\n",
      "2.409608190645897\n"
     ]
    }
   ],
   "source": [
    "print(sum(sr.dividends[sr.dividends.index.year == 2023].values)/sr_daily_non_delayed.tail(1)['Adj Close'].values[0] * 100)\n",
    "print(sum(brk.dividends[brk.dividends.index.year == 2023].values)/brk_daily_non_delayed.tail(1)['Adj Close'].values[0] * 100)\n",
    "print(sum(aapl.dividends[aapl.dividends.index.year == 2023].values)/aapl_daily_non_delayed.tail(1)['Adj Close'].values[0] * 100)\n",
    "print(sum(msft.dividends[msft.dividends.index.year == 2023].values)/msft_daily_non_delayed.tail(1)['Adj Close'].values[0] * 100)\n",
    "print(sum(goog.dividends[goog.dividends.index.year == 2023].values)/goog_daily_non_delayed.tail(1)['Adj Close'].values[0] * 100)\n",
    "print(sum(jpm.dividends[jpm.dividends.index.year == 2023].values)/jpm_daily_non_delayed.tail(1)['Adj Close'].values[0] * 100)"
   ]
  },
  {
   "cell_type": "markdown",
   "metadata": {},
   "source": [
    "### Question 6. [Exploratory] Investigate new metrics"
   ]
  },
  {
   "cell_type": "markdown",
   "metadata": {},
   "source": [
    "A moving average (MA) is a technical analysis tool used in stock market trading to smooth out price data by creating a constantly updated average price over a specific period of time. This period can vary widely, from a few days to several years, depending on the trader's strategy and the timeframe they are interested in. The moving average simplifies price data by smoothing it out and creating one flowing line, making it easier to see the underlying trend.\n",
    "\n",
    "There are different types of moving averages, including the simple moving average (SMA) and the exponential moving average (EMA). The SMA calculates the average price by giving equal weight to each of the prices involved, while the EMA gives more weight to more recent trading days, making it potentially more useful for short-term traders.\n",
    "\n",
    "Moving averages are important for stock market decisions for several reasons:\n",
    "\n",
    "* Trend Identification: By smoothing out price data, moving averages make it easier to identify the direction of the market trend. This can help traders and investors make more informed decisions about buying or selling stocks.\n",
    "* Signal Generation: Moving average crossovers, where a shorter-term moving average crosses above a longer-term moving average, are a popular strategy for both entries and exits. This can signal potential buy or sell opportunities.\n",
    "* Support and Resistance Levels: Moving averages can also highlight areas of potential support or resistance, which are levels where the price of a stock tends to bounce back up or down. Identifying these levels can help traders and investors anticipate future price movements.\n",
    "\n",
    "However, it's important to note that moving averages are based on historical data and simply show the average price over a certain time period. While they can be a useful tool for identifying trends and potential trading opportunities, they are not predictive in nature. The effectiveness of moving averages in generating trading signals can vary, and in some cases, they may produce false signals.\n",
    "\n",
    "Investing using moving averages or any technical analysis technique requires an investment account with a stockbroker. It's crucial for traders and investors to understand the advantages and disadvantages of using moving averages and to consider them as part of a broader trading strategy that may include other indicators and analysis tools."
   ]
  },
  {
   "cell_type": "markdown",
   "metadata": {},
   "source": [
    "### Question 7. [Exploratory] Time-driven strategy description around earnings releases"
   ]
  },
  {
   "cell_type": "markdown",
   "metadata": {},
   "source": [
    "An earnings report is a financial statement that a company publishes to disclose its financial performance over a specific period, typically a quarter or a year. It includes details about the company's revenues, expenses, and net income, which is the profit or loss the company has made during that period. The earnings report is crucial for investors and analysts as it provides insights into the company's financial health, operational efficiency, and its ability to generate profits.\n",
    "\n",
    "The Earnings Per Share (EPS) is a key metric derived from the earnings report. EPS is calculated by dividing the net income by the number of outstanding shares. It represents the portion of a company's profit allocated to each outstanding share of common stock. EPS is a widely used measure of a company's profitability on a per-share basis.\n",
    "\n",
    "The EPS estimate is a forecast of what analysts believe the company's EPS will be for a future period, typically the next quarter or year. This estimate is based on the analyst's expectations of the company's earnings and the number of outstanding shares. The EPS estimate is important because it helps investors and analysts gauge the company's future performance and make investment decisions.\n",
    "\n",
    "The relationship between the earnings report, the EPS estimate, and stock market performance is as follows:\n",
    "\n",
    "* Positive Earnings Report: When a company reports positive earnings, it indicates that the company has made a profit during the period covered by the report. This is generally seen as a positive sign by investors, as it suggests that the company is financially healthy and capable of generating profits. Positive earnings can lead to an increase in the stock's price as investors may view the company as more attractive for investment.\n",
    "* Negative Earnings Report: Conversely, if a company reports negative earnings, it means the company has incurred a loss during the period. This is often viewed negatively by investors, as it suggests financial difficulties or operational challenges. Negative earnings can lead to a decrease in the stock's price, as investors may perceive the company as less attractive for investment.\n",
    "\n",
    "The EPS estimate plays a crucial role in this process. Before the earnings report is released, investors and analysts use the EPS estimate to gauge the company's expected performance. If the actual earnings report shows results that are better than the EPS estimate, it can be seen as a positive surprise, potentially leading to an increase in the stock's price. Conversely, if the earnings report shows results worse than the EPS estimate, it can be seen as a negative surprise, potentially leading to a decrease in the stock's price.\n",
    "\n",
    "In summary, the earnings report and the EPS estimate are critical for understanding a company's financial performance and making informed investment decisions. Positive earnings reports and EPS estimates can lead to an increase in the stock's price, while negative reports and estimates can lead to a decrease in the stock's price"
   ]
  },
  {
   "cell_type": "markdown",
   "metadata": {},
   "source": [
    "In the stock market, strategies that focus on upcoming events, such as earnings reports, mergers and acquisitions (M&A), and regulatory changes, can significantly impact a company's stock price. These strategies are often referred to as event-driven strategies, where investors aim to profit from temporary mispricings that occur during or after a corporate event 2.\n",
    "\n",
    "##### Earnings Reports and EPS Estimates\n",
    "Earnings reports are crucial for investors as they provide insights into a company's financial health, including revenues, expenses, and net income. The Earnings Per Share (EPS) is a key metric derived from these reports, representing the portion of a company's profit allocated to each outstanding share. EPS estimates, which are forecasts of what analysts believe the company's EPS will be for a future period, play a significant role in investor expectations and stock price movements.\n",
    "\n",
    "* Positive Earnings Surprise: If a company's actual earnings report shows results better than the EPS estimate, it can be seen as a positive surprise. This can lead to an increase in the stock's price as investors may view the company as more attractive for investment, assuming it has outperformed expectations 2.\n",
    "* Negative Earnings Surprise: Conversely, if the earnings report shows results worse than the EPS estimate, it can be seen as a negative surprise. This can lead to a decrease in the stock's price, as investors may perceive the company as less attractive for investment, assuming it has underperformed expectations 2.\n",
    "\n",
    "##### Mergers and Acquisitions (M&A)\n",
    "M&A events can have a significant impact on a company's stock price. These events can lead to temporary mispricings due to the uncertainty surrounding the outcome of the deal. Investors using an event-driven strategy analyze these corporate actions from multiple perspectives, including the current regulatory environment, possible synergies from mergers or acquisitions, and a new price target after the action has taken place 2.\n",
    "\n",
    "* Positive Impact: A successful M&A can lead to increased market share, cost savings, and new revenue streams, which can positively impact the stock price.\n",
    "* Negative Impact: On the other hand, M&A can also lead to integration challenges, increased debt, and potential disruptions to operations, which can negatively impact the stock price.\n",
    "\n",
    "##### Regulatory Changes\n",
    "Regulatory changes can also significantly affect a company's stock price. Changes in laws or regulations can impact a company's operations, profitability, and competitive position. Investors using an event-driven strategy analyze how these changes might affect the company's stock price, considering factors such as the potential impact on the company's business model and the regulatory environment 2.\n",
    "\n",
    "* Positive Impact: Favorable regulatory changes can lead to increased market access, reduced costs, or new opportunities, which can positively impact the stock price.\n",
    "* Negative Impact: Conversely, unfavorable regulatory changes can lead to increased costs, market restrictions, or new compliance requirements, which can negatively impact the stock price.\n",
    "\n",
    "In conclusion, understanding the impact of upcoming events on stock prices is crucial for investors. By analyzing these events from multiple perspectives and considering the potential outcomes, investors can make informed decisions and potentially profit from temporary mispricings caused by corporate events"
   ]
  }
 ],
 "metadata": {
  "kernelspec": {
   "display_name": "tf-gpu",
   "language": "python",
   "name": "python3"
  },
  "language_info": {
   "codemirror_mode": {
    "name": "ipython",
    "version": 3
   },
   "file_extension": ".py",
   "mimetype": "text/x-python",
   "name": "python",
   "nbconvert_exporter": "python",
   "pygments_lexer": "ipython3",
   "version": "3.9.16"
  }
 },
 "nbformat": 4,
 "nbformat_minor": 2
}
